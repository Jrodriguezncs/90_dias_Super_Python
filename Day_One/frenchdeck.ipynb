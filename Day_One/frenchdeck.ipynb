{
  "cells": [
    {
      "cell_type": "code",
      "execution_count": null,
      "metadata": {},
      "outputs": [],
      "source": [
        "from frenchdeck import FrenchDeck\n",
        "import random\n",
        "deck = FrenchDeck()\n",
        "len(deck), deck[0], deck[:3], random.choice(deck)"
      ]
    }
  ],
  "metadata": {
    "kernelspec": {
      "display_name": "Python 3",
      "language": "python",
      "name": "python3"
    },
    "language_info": {
      "name": "python",
      "version": "3"
    }
  },
  "nbformat": 4,
  "nbformat_minor": 5
}